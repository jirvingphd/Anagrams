{
 "cells": [
  {
   "cell_type": "markdown",
   "metadata": {
    "slideshow": {
     "slide_type": "notes"
    }
   },
   "source": [
    "## Teacher Notes\n",
    "\n",
    "## Introduction\n",
    "\n",
    "This problem only requires basic python programming knowledge but stands to be a moderately difficult problem solving exercise.\n",
    "\n",
    "## Learning Goals\n",
    "\n",
    "* Build students problem solving ability\n",
    "* See that there are multiple valid solutions to a problem\n",
    "* Master string slicing\n",
    "* Iterate over strings\n",
    "* Write functions\n",
    "\n",
    "## Prerequisite Knowledge\n",
    "\n",
    "Students should already have been exposed to and practice working with basic python data types."
   ]
  },
  {
   "cell_type": "markdown",
   "metadata": {
    "slideshow": {
     "slide_type": "slide"
    }
   },
   "source": [
    "## Paired Programming\n",
    "                                                                                            \n",
    "                                                                                      \n",
    "Write a function to determine if two strings are anagrams. (Permutations of each other.)"
   ]
  },
  {
   "cell_type": "markdown",
   "metadata": {
    "slideshow": {
     "slide_type": "notes"
    }
   },
   "source": [
    "## Teacher Notes\n",
    "\n",
    "Hints / Kick-off Questions\n",
    "\n",
    "* What is an anagram? (Simple reordering of letters)\n",
    "* What data type would the inputs be?\n",
    "* How would you go about checking if the characters from string 1 are also in string 2?\n",
    "* \n",
    "\n",
    "* What is the problem we're trying to solve?\n",
    "* How does this \n",
    "\n",
    "* Start with pseudocode / verbal explanations first.\n",
    "    * If you were doing this yourself, how would you do this?\n"
   ]
  },
  {
   "cell_type": "code",
   "execution_count": 1,
   "metadata": {
    "slideshow": {
     "slide_type": "notes"
    }
   },
   "outputs": [],
   "source": [
    "## Teacher Notes\n",
    "\n",
    "#Two potential solutions\n",
    "\n",
    "def anagram(s1, s2):\n",
    "    if len(s1) != len(s2):\n",
    "        return False\n",
    "    s1_letters = {}\n",
    "    for l in s1:\n",
    "        s1_letters[l] = s1_letters.get(l, 0) + 1 #Update previous entry by 1, if no entry start with 0\n",
    "    s2_letters = {}\n",
    "    for l in s2:\n",
    "        s2_letters[l] = s2_letters.get(l, 0) + 1 #Same as above, could use subfunction\n",
    "    for l in s1_letters.keys():\n",
    "        if s1_letters[l] != s2_letters[l]:\n",
    "            return False\n",
    "    return True #If nothing has returned false, the two are anagrams!\n",
    "\n",
    "def anagram2(s1, s2):\n",
    "    s2 = list(s2)\n",
    "    for l in s1:\n",
    "        try:\n",
    "            s2.remove(l)\n",
    "        except:\n",
    "            return False #s2 did not have the letter to remove\n",
    "    if s2 == []:\n",
    "        return True #their was a perfect correspondence and s2 is now an empty list\n",
    "    return False\n",
    "    "
   ]
  },
  {
   "cell_type": "markdown",
   "metadata": {
    "slideshow": {
     "slide_type": "notes"
    }
   },
   "source": [
    "## Teacher Notes\n",
    "\n",
    "Work through student solutions first. If students are unable to generate solutions independently, prompt them with follow up questions such as, how could we start checking letter by letter if the two matched? Once code is generated, be sure to have students go through the code line by line and explain verbally what is happening. Also be sure to explore edge cases which are important to consider. For example, \"aabc\" and \"cba\" are not anagrams because a occurs twice in the first string but only once in the second. "
   ]
  }
 ],
 "metadata": {
  "celltoolbar": "Slideshow",
  "kernelspec": {
   "display_name": "Python 3",
   "language": "python",
   "name": "python3"
  },
  "language_info": {
   "codemirror_mode": {
    "name": "ipython",
    "version": 3
   },
   "file_extension": ".py",
   "mimetype": "text/x-python",
   "name": "python",
   "nbconvert_exporter": "python",
   "pygments_lexer": "ipython3",
   "version": "3.6.5"
  }
 },
 "nbformat": 4,
 "nbformat_minor": 2
}
